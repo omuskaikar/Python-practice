{
 "cells": [
  {
   "cell_type": "code",
   "execution_count": null,
   "metadata": {},
   "outputs": [],
   "source": [
    "\n",
    "\n",
    "import matplotlib.pyplot as plt\n",
    "import numpy as np\n",
    "x=np.random.randn(50)\n",
    "y=np.random.randn(50)\n",
    "plt.scatter(x,y,facecolor=\"none\",edgecolor=\"b\")\n",
    "plt.xlabel(\"x\")\n",
    "plt.ylabel(\"y\")\n",
    "plt.show()\n",
    "\n",
    ""
   ]
  },
  {
   "cell_type": "code",
   "execution_count": null,
   "metadata": {},
   "outputs": [],
   "source": [
    "\n",
    "\n",
    "math_marsk=[88, 92, 80, 89, 100, 80, 60, 100, 80, 34]\n",
    "science_marks = [35, 79, 79, 48, 100, 88, 32, 45, 20, 30]\n",
    "marks_range= [10, 20, 30, 40, 50, 60, 70, 80, 90, 100]\n",
    "plt.scatter(marks_range,math_marsk,label=\"math_marsk\",color=\"r\")\n",
    "plt.scatter(marks_range,science_marks,label=\"science_marks\",color=\"g\")\n",
    "plt.legend()\n",
    "plt.show()\n",
    "\n",
    ""
   ]
  },
  {
   "cell_type": "code",
   "execution_count": null,
   "metadata": {},
   "outputs": [],
   "source": [
    "\n",
    "\n",
    "dic1={1:10, 2:20}\n",
    "dic2={3:30, 4:40}\n",
    "dic3={5:50,6:60}\n",
    "for d in (dic1,dic2,dic3):\n",
    "    dic1.update(d)\n",
    "dic1\n",
    "\n",
    ""
   ]
  },
  {
   "cell_type": "code",
   "execution_count": null,
   "metadata": {},
   "outputs": [],
   "source": [
    "\n",
    "\n",
    "dic1={1:2,2:3,3:4}\n",
    "key=3\n",
    "if key in dic1:\n",
    "    print(\"key exists\")\n",
    "else:\n",
    "    print(\"doesnt exist\")\n",
    "\n",
    ""
   ]
  },
  {
   "cell_type": "code",
   "execution_count": null,
   "metadata": {},
   "outputs": [],
   "source": [
    "\n",
    "\n",
    "dic1={}\n",
    "for i in range (1,6):\n",
    "    dic1[i]=i*i\n",
    "print(dic1)\n",
    "\n",
    ""
   ]
  },
  {
   "cell_type": "code",
   "execution_count": null,
   "metadata": {},
   "outputs": [],
   "source": [
    "\n",
    "\n",
    "\n",
    "del dic1[4]\n",
    "print( dic1)\n",
    "\n",
    ""
   ]
  },
  {
   "cell_type": "code",
   "execution_count": null,
   "metadata": {},
   "outputs": [],
   "source": [
    "\n",
    "\n",
    "key=[1,2,3,4,5]\n",
    "values=[2,3,4,5,6]\n",
    "dic1=dict(zip(key,values))\n",
    "dic1\n",
    "\n",
    ""
   ]
  },
  {
   "cell_type": "code",
   "execution_count": null,
   "metadata": {},
   "outputs": [],
   "source": [
    "\n",
    "\n",
    "Sample_Data=[{\"V\":\"S001\"},\n",
    "             {\"V\": \"S002\"}, \n",
    "             {\"VI\": \"S001\"}, \n",
    "             {\"VI\": \"S005\"}, \n",
    "             {\"VII\":\"S005\"}, \n",
    "             {\"V\":\"S009\"},\n",
    "             {\"VIII\":\"S007\"}]\n",
    "ans=set(val for dic in Sample_Data for val in dic.values())\n",
    "ans\n",
    "\n",
    ""
   ]
  },
  {
   "cell_type": "code",
   "execution_count": null,
   "metadata": {},
   "outputs": [],
   "source": [
    "\n",
    "\n",
    "string=\"apple\"\n",
    "for i in range(len(string)):\n",
    "    dic1[i+1]=string[i]\n",
    "print(dic1)\n",
    "\n",
    ""
   ]
  },
  {
   "cell_type": "code",
   "execution_count": null,
   "metadata": {},
   "outputs": [],
   "source": [
    "\n",
    "\n",
    "sentence=input(\"enter the sentence:\")\n",
    "for i in sentence:\n",
    "    if (i==\" \"):\n",
    "        print(\"-\",end=\"\")\n",
    "    else:\n",
    "        print(i,end=\"\")\n",
    "\n",
    ""
   ]
  },
  {
   "cell_type": "code",
   "execution_count": null,
   "metadata": {},
   "outputs": [],
   "source": [
    "\n",
    "\n",
    "import random\n",
    "a=[]\n",
    "for i in range (10):\n",
    "    a.append(random.randrange(100,200))\n",
    "print(\"list is:\",a)\n",
    "print(min(a))\n",
    "\n",
    ""
   ]
  },
  {
   "cell_type": "code",
   "execution_count": null,
   "metadata": {},
   "outputs": [],
   "source": [
    "\n",
    "\n",
    "countries={\"INDIA\":\"INR\",\n",
    "           \"USA\":\"USD\",\n",
    "           \"DUBAI\":\"DHIRAM\",\n",
    "           \"QATAR\":\" DINAR\",\n",
    "           \"ENGLAND\":\"POUNDS\"}\n",
    "print(countries[\"INDIA\"])\n",
    "\n",
    ""
   ]
  },
  {
   "cell_type": "code",
   "execution_count": null,
   "metadata": {},
   "outputs": [],
   "source": [
    "\n",
    "\n",
    "number=-12+5j\n",
    "print(type(number))\n",
    "print(\"real part is:\",number.real)\n",
    "print(\"imaginary part is:\",number-number.real)\n",
    "print(\"conjugate is \",number.conjugate())\n",
    "print(\"absolute is:\",abs(number))\n",
    "\n",
    ""
   ]
  },
  {
   "cell_type": "code",
   "execution_count": null,
   "metadata": {},
   "outputs": [],
   "source": [
    "\n",
    "\n",
    "string=\"hello\"\n",
    "string=string.replace(\"hello\",\"help\")\n",
    "print(string)\n",
    "\n",
    ""
   ]
  },
  {
   "cell_type": "code",
   "execution_count": null,
   "metadata": {},
   "outputs": [],
   "source": [
    "\n",
    "\n",
    "a=[]\n",
    "for i in range(0,10):\n",
    "      a.append(random.randrange(100,200))\n",
    "print(a)\n",
    "print(min(a))\n",
    "\n",
    ""
   ]
  },
  {
   "cell_type": "code",
   "execution_count": null,
   "metadata": {},
   "outputs": [],
   "source": [
    "\n",
    "\n",
    "string=\"lemon\"\n",
    "string=string[-1]+string[1:-1]+string[:1]\n",
    "print(string)\n",
    "\n",
    ""
   ]
  },
  {
   "cell_type": "code",
   "execution_count": null,
   "metadata": {},
   "outputs": [],
   "source": [
    "\n",
    "\n",
    "string=\"prerajulisation\"\n",
    "subs=\"om\"\n",
    "if subs in string:\n",
    "    print(\"yes\")\n",
    "else:\n",
    "    print(\"no\")\n",
    "\n",
    ""
   ]
  },
  {
   "cell_type": "code",
   "execution_count": null,
   "metadata": {},
   "outputs": [],
   "source": [
    "\n",
    "\n",
    "sentence=\"let's all agree that DBMS sucks\"\n",
    "sentence=sentence.replace(\" \",\"-\")\n",
    "print(sentence)\n",
    "\n",
    ""
   ]
  },
  {
   "cell_type": "code",
   "execution_count": null,
   "metadata": {},
   "outputs": [],
   "source": [
    "\n",
    "\n",
    "string=\"malayalam\"\n",
    "reverse=\"\"\n",
    "for i in range (len(string)-1,-1,-1):\n",
    "    reverse=reverse+string[i]\n",
    "if (string==reverse):\n",
    "    print(\"palindrome\")\n",
    "else:\n",
    "    print(\"not palindrome\")\n",
    "\n",
    ""
   ]
  },
  {
   "cell_type": "code",
   "execution_count": null,
   "metadata": {},
   "outputs": [],
   "source": [
    "\n",
    "\n",
    "sentence=input(\"enter the sentence:\")\n",
    "sentence=sentence.title()\n",
    "sentence\n",
    "\n",
    ""
   ]
  },
  {
   "cell_type": "code",
   "execution_count": null,
   "metadata": {},
   "outputs": [],
   "source": [
    "\n",
    "\n",
    "string=input(\"enter the string:\")\n",
    "count=0\n",
    "char=input(\"enter the char:\")\n",
    "for i in range(len(string)):\n",
    "    if(string[i]==char):\n",
    "        count=count+1\n",
    "print(count)\n",
    "\n",
    ""
   ]
  },
  {
   "cell_type": "code",
   "execution_count": null,
   "metadata": {},
   "outputs": [],
   "source": [
    "\n",
    "\n",
    "dic1={\"om\":\"uskaikar\",\"aditya\":\"sonavane\"}\n",
    "dic2={\"mihir\":\"randhive\"}\n",
    "dic1.update(dic2)\n",
    "dic1\n",
    "\n",
    ""
   ]
  },
  {
   "cell_type": "code",
   "execution_count": null,
   "metadata": {},
   "outputs": [],
   "source": [
    "\n",
    "\n",
    "sentence=input(\"enter the sentence:\")\n",
    "vowel=0\n",
    "consonant=0\n",
    "digit=0\n",
    "spchar=0\n",
    "for i in range (len(sentence)):\n",
    "    ch=sentence[i]\n",
    "    ch=ch.lower()\n",
    "    if(ch=='a' or ch=='e'or ch=='i'or ch=='o'or ch=='u'):\n",
    "        vowel=vowel+1\n",
    "    elif(ch>='a'and ch<='z'):\n",
    "        consonant=consonant+1\n",
    "    elif(ch>='0'and ch<='9'):\n",
    "        digit=digit+1\n",
    "    else:\n",
    "        spchar=spchar+1\n",
    "print(f\"vowel:{vowel}\")\n",
    "print(f\"consonant:{consonant}\")\n",
    "print(f\"digits:{digit}\")\n",
    "print(f\"special characters:{spchar}\")\n",
    "\n",
    ""
   ]
  },
  {
   "cell_type": "code",
   "execution_count": null,
   "metadata": {},
   "outputs": [],
   "source": [
    "\n",
    "\n",
    "a=np.full((3,3),1)\n",
    "a\n",
    "\n",
    ""
   ]
  },
  {
   "cell_type": "code",
   "execution_count": null,
   "metadata": {},
   "outputs": [],
   "source": [
    "\n",
    "\n",
    "\n",
    "if [1,1,1] in a.tolist():\n",
    "    print(\"yes\")\n",
    "else:\n",
    "    print(\"no\")\n",
    "\n",
    ""
   ]
  },
  {
   "cell_type": "code",
   "execution_count": null,
   "metadata": {},
   "outputs": [],
   "source": [
    "\n",
    "\n",
    "a=np.array([[3,3,3],[1,3,1],[1,8,9]])\n",
    "b=np.array([[1,0,0],[0,1,0],[0,0,1]])\n",
    "c=a+b\n",
    "d=np.dot(a,b)\n",
    "print (c)\n",
    "print(d)\n",
    "\n",
    ""
   ]
  },
  {
   "cell_type": "code",
   "execution_count": null,
   "metadata": {},
   "outputs": [],
   "source": [
    "\n",
    "\n",
    "a=a.flatten()\n",
    "print(np.bincount(a).argmax())\n",
    "\n",
    ""
   ]
  },
  {
   "cell_type": "code",
   "execution_count": null,
   "metadata": {},
   "outputs": [],
   "source": [
    "\n",
    "\n",
    "a=np.array([[1,2],[3,4]])\n",
    "print(a)\n",
    "print(a.flatten())\n",
    "a=a.reshape(1,4)\n",
    "print(a)\n",
    "\n",
    ""
   ]
  },
  {
   "cell_type": "code",
   "execution_count": null,
   "metadata": {},
   "outputs": [],
   "source": [
    "\n",
    "\n",
    "a=np.array([[1,1,1],[2,2,2],[3,3,3]])\n",
    "print(a)\n",
    "for i in range(3):\n",
    "    sum=0\n",
    "    for j in range(3):\n",
    "        sum=sum+a[j][i]\n",
    "    print(sum,end=\" \")\n",
    "\n",
    ""
   ]
  },
  {
   "cell_type": "code",
   "execution_count": null,
   "metadata": {},
   "outputs": [],
   "source": [
    "\n",
    "\n",
    "a=np.array([1,1,1,1,1,1,1,1,1,1,1,1])\n",
    "print(np.mean(a))\n",
    "print(np.var(a))\n",
    "print(np.std(a))\n",
    "\n",
    ""
   ]
  },
  {
   "cell_type": "code",
   "execution_count": null,
   "metadata": {},
   "outputs": [],
   "source": [
    "\n",
    "\n",
    "a=np.array(['python','is','easy'])\n",
    "x=np.char.join(\" \",a)\n",
    "print(x)\n",
    "\n",
    ""
   ]
  },
  {
   "cell_type": "code",
   "execution_count": null,
   "metadata": {},
   "outputs": [],
   "source": [
    "\n",
    "\n",
    "a=np.array([1,2,3])\n",
    "b=np.array([2,3,5])\n",
    "x=np.arange(1,11)\n",
    "y=x*x\n",
    "plt.title(\"line graph\")\n",
    "plt.xlabel(\"x\")\n",
    "plt.ylabel(\"y\")\n",
    "plt.plot(x,y,color=\"r\")\n",
    "plt.show()\n",
    "\n",
    ""
   ]
  },
  {
   "cell_type": "code",
   "execution_count": null,
   "metadata": {},
   "outputs": [],
   "source": [
    "\n",
    "\n",
    "\n",
    "def reverse(number):\n",
    "    revnum=0\n",
    "    while(number>0):\n",
    "        digit=number%10\n",
    "        revnum=revnum*10+digit\n",
    "        number=number//10\n",
    "    return revnum\n",
    "print(reverse(int(input(\"enter the number:\"))))\n",
    "\n",
    ""
   ]
  },
  {
   "cell_type": "code",
   "execution_count": null,
   "metadata": {},
   "outputs": [],
   "source": [
    "\n",
    "\n",
    "n=int(input(\"enter the number:\"))\n",
    "for i in range(n):\n",
    "    list1=[]\n",
    "    for j in range(i):\n",
    "        print(i,end=\" \")\n",
    "        if(i<j):\n",
    "            print(\"+\",end=\" \")\n",
    "        list1.append(i)\n",
    "    print(\"=\",sum(list1))\n",
    "print()\n",
    "    \n",
    "\n",
    ""
   ]
  },
  {
   "cell_type": "code",
   "execution_count": null,
   "metadata": {},
   "outputs": [],
   "source": [
    "\n",
    "\n",
    "limit=int(input(\"Enter upper limit:\"))\n",
    "c=0\n",
    "m=2\n",
    "while(c<limit):\n",
    "    for n in range(1,m+1):\n",
    "        a=m*m-n*n\n",
    "        b=2*m*n\n",
    "        c=m*m+n*n\n",
    "        if(c>limit):\n",
    "            break\n",
    "        if(a==0 or b==0 or c==0):\n",
    "            break\n",
    "        print(a,b,c)\n",
    "    m=m+1\n",
    "\n",
    ""
   ]
  },
  {
   "cell_type": "code",
   "execution_count": null,
   "metadata": {},
   "outputs": [],
   "source": [
    "\n",
    "\n",
    "limit=int(input(\"enter upper limit:\"))\n",
    "c=0\n",
    "m=2\n",
    "while(c<limit):\n",
    "    for n in range(1,m+1):\n",
    "        a=m*m-n*n\n",
    "        b=2*m*n\n",
    "        c=m*m+n*n\n",
    "        if(c>limit):\n",
    "            break\n",
    "        if(a==0 or b==0 or c==0):\n",
    "            break\n",
    "        print(a,b,c)\n",
    "    m=m+1\n",
    "\n",
    ""
   ]
  },
  {
   "cell_type": "code",
   "execution_count": null,
   "metadata": {},
   "outputs": [],
   "source": [
    "\n",
    "\n",
    "for i in range(0,7):\n",
    "    for j in range(0,i):\n",
    "        print(i,end=\"\")\n",
    "    print()\n",
    "\n",
    ""
   ]
  },
  {
   "cell_type": "code",
   "execution_count": null,
   "metadata": {},
   "outputs": [],
   "source": [
    "\n",
    "\n",
    "l1=[1,2,3]\n",
    "l2=[2,3,4]\n",
    "dic=dict(zip(l1,l2))\n",
    "dic\n",
    "\n",
    ""
   ]
  },
  {
   "cell_type": "code",
   "execution_count": null,
   "metadata": {},
   "outputs": [],
   "source": [
    "\n",
    "\n",
    "count=0\n",
    "number=int(input(\"enter the number:\"))\n",
    "while(number>10):\n",
    "    number=number//6\n",
    "    count=count+1\n",
    "print(count)\n",
    "\n",
    ""
   ]
  },
  {
   "cell_type": "code",
   "execution_count": null,
   "metadata": {},
   "outputs": [],
   "source": [
    "\n",
    "\n",
    "f=open(\"om.txt\",\"w+\")\n",
    "f.write(\"om is the best\")\n",
    "f.close()\n",
    "f=open(\"om.txt\",\"r\")\n",
    "for line in f:\n",
    "        output=line.title()\n",
    "print(output)\n",
    "\n",
    ""
   ]
  },
  {
   "cell_type": "code",
   "execution_count": null,
   "metadata": {},
   "outputs": [],
   "source": [
    "\n",
    "\n",
    "letter = input(\"enter letter:\")\n",
    "f=open(\"om.txt\",\"r\")\n",
    "m=f.read()\n",
    "c=m.count(letter)\n",
    "print(c)\n",
    "\n",
    ""
   ]
  },
  {
   "cell_type": "code",
   "execution_count": null,
   "metadata": {},
   "outputs": [],
   "source": [
    "\n",
    "\n",
    "f=open(\"om.txt\",\"w\")\n",
    "f.write(\"hatttttt\")\n",
    "f.close()\n",
    "f=open(\"om.txt\",\"r\")\n",
    "for line in f:\n",
    "    print(line)\n",
    "f.close()\n",
    "f=open(\"om.txt\",\"a\")\n",
    "f.write(\"\\naditya is also good\")\n",
    "f.close()\n",
    "f=open(\"om.txt\",\"r\")\n",
    "for line in f:\n",
    "    print(line)\n",
    "\n",
    ""
   ]
  },
  {
   "cell_type": "code",
   "execution_count": null,
   "metadata": {},
   "outputs": [],
   "source": [
    "\n",
    "\n",
    "f=open(\"om.txt\",\"r\")\n",
    "for line in f:\n",
    "    print(line)\n",
    "\n",
    ""
   ]
  },
  {
   "cell_type": "code",
   "execution_count": null,
   "metadata": {},
   "outputs": [],
   "source": [
    "\n",
    "\n",
    "fn1=input(\"enter the name of first file:\")\n",
    "fn2=input(\"enter the name of 2nd file:\")\n",
    "f1=open(fn1,\"r\")\n",
    "f2=open(fn2,\"w\")\n",
    "for line in f1:\n",
    "    f2.write(line)\n",
    "f1.close()\n",
    "f2.close()\n",
    "f2=f2=open(fn2,\"r\")\n",
    "for line in f2:\n",
    "    print(line)\n",
    "\n",
    ""
   ]
  },
  {
   "cell_type": "code",
   "execution_count": null,
   "metadata": {},
   "outputs": [],
   "source": [
    "\n",
    "\n",
    "f=open(\"om.txt\",\"w\")\n",
    "n= int (input(\"enter the no. of students:\"))\n",
    "while(n>0):\n",
    "    a_id=input(\"enter student id:\")\n",
    "    name=input(\"enter student name:\")\n",
    "    n=n-1\n",
    "    f.write(\"name:\"+name+\"  id:  \"+a_id+\"\\n\")\n",
    "f.close()\n",
    "f=open(\"om.txt\",\"r\")\n",
    "for line in f:\n",
    "    print(line)\n",
    "\n",
    ""
   ]
  },
  {
   "cell_type": "code",
   "execution_count": null,
   "metadata": {},
   "outputs": [],
   "source": [
    "\n",
    "\n",
    "\n",
    "a=np.array([1,3,56,7,1,2,4])\n",
    "c=np.sort(a)\n",
    "print(c)\n",
    "for i in c:\n",
    "    \n",
    "\n",
    ""
   ]
  },
  {
   "cell_type": "code",
   "execution_count": null,
   "metadata": {},
   "outputs": [],
   "source": [
    "\n",
    "\n",
    "print(\"Enter the Name of Source File: \")\n",
    "sFile = input()\n",
    "print(\"Enter the Name of Target File: \")\n",
    "tFile = input()\n",
    "\n",
    "fileHandle = open(sFile, \"r\")\n",
    "texts = fileHandle.readlines()\n",
    "fileHandle.close()\n",
    "\n",
    "fileHandle = open(tFile, \"w\")\n",
    "for s in texts:\n",
    "    fileHandle.write(s)\n",
    "fileHandle.close()\n",
    "\n",
    "print(\"\\nFile Copied Successfully!\")\n",
    "\n",
    ""
   ]
  },
  {
   "cell_type": "code",
   "execution_count": null,
   "metadata": {},
   "outputs": [],
   "source": [
    "\n",
    "\n",
    "f=open(\"om.txt\",\"r\")\n",
    "while 1:\n",
    "    char=f.read(1)\n",
    "    if not char:\n",
    "        break\n",
    "    print(char)\n",
    "f.close()\n",
    "\n",
    ""
   ]
  },
  {
   "cell_type": "code",
   "execution_count": null,
   "metadata": {},
   "outputs": [],
   "source": [
    "\n",
    "\n",
    "def counter(fname):\n",
    "    num_words = 0\n",
    "    num_lines = 0\n",
    "    num_charc = 0\n",
    "    num_spaces = 0\n",
    "    f=open(fname, 'r') \n",
    "    for line in f:\n",
    "            num_lines += 1\n",
    "            word = 'Y'\n",
    "            for letter in line:\n",
    "                if (letter != ' ' and word == 'Y'):\n",
    "                    num_words += 1\n",
    "                    word = 'N'\n",
    "                elif (letter == ' '):\n",
    "                    num_spaces += 1\n",
    "                    word = 'Y'\n",
    "                for i in letter:\n",
    "                    if(i !=\" \" and i !=\"\\n\"):\n",
    "                        num_charc += 1\n",
    "    print(\"Number of words in text file: \",num_words)\n",
    "    print(\"Number of lines in text file: \",num_lines)\n",
    "    print('Number of characters in text file: ',num_charc)\n",
    "    print('Number of spaces in text file: ',num_spaces)\n",
    "if __name__ == '__main__':\n",
    "    fname = 'om.txt'\n",
    "    try:\n",
    "        counter(fname)\n",
    "    except:\n",
    "        print('File not found')\n",
    "\n",
    ""
   ]
  },
  {
   "cell_type": "code",
   "execution_count": null,
   "metadata": {},
   "outputs": [],
   "source": [
    "\n",
    "\n",
    "class Invalid_Marks(Exception):\n",
    "    def __str__(self):\n",
    "        return \"the marks entered are above 100\"\n",
    "marks=int(input(\"enter the marks:\"))\n",
    "if(marks>100):\n",
    "    raise Invalid_Marks\n",
    "else:\n",
    "    print(\"valid marks\")\n",
    "\n",
    ""
   ]
  },
  {
   "cell_type": "code",
   "execution_count": null,
   "metadata": {},
   "outputs": [],
   "source": [
    "\n",
    "\n",
    "class zeroerr(Exception):\n",
    "    def __str__(self):\n",
    "        return \"the value of b*d is 0\"\n",
    "a=int(input(\"enter value for a:\"))\n",
    "b=int(input(\"enter value for b:\"))\n",
    "c=int(input(\"enter value for c:\"))\n",
    "d=int(input(\"enter value for d:\"))\n",
    "if(b or d==0):\n",
    "    raise zeroerr\n",
    "else:\n",
    "    value=((a+d)+(b*c))/(b*d)\n",
    "    print(f\"the value of given expression is:{value}\")\n",
    "\n",
    ""
   ]
  },
  {
   "cell_type": "code",
   "execution_count": null,
   "metadata": {},
   "outputs": [],
   "source": [
    "\n",
    "\n",
    "age=int(input(\"enter the age:\"))\n",
    "class chotu(Exception):\n",
    "    def __str__(self):\n",
    "        return \"chotu hai tu\"\n",
    "if(age<18):\n",
    "    raise chotu\n",
    "else:\n",
    "    print(\"valid age\")\n",
    "\n",
    ""
   ]
  },
  {
   "cell_type": "code",
   "execution_count": null,
   "metadata": {},
   "outputs": [],
   "source": [
    "\n",
    "\n",
    "string=input('enter a string up to 15 char:')\n",
    "while len(string)>15:\n",
    "    string=input('enter a string upto 15 char:')\n",
    "for i in range(0,len(string)):\n",
    "    print(string[i],i)\n",
    "\n",
    ""
   ]
  },
  {
   "cell_type": "code",
   "execution_count": null,
   "metadata": {},
   "outputs": [],
   "source": [
    "\n",
    "\n",
    "if __name__ == '__main__':\n",
    "    fname = 'File1.txt'\n",
    "    try:\n",
    "        counter(fname)\n",
    "    except:\n",
    "        print('File not found')\n",
    "\n",
    ""
   ]
  },
  {
   "cell_type": "code",
   "execution_count": null,
   "metadata": {},
   "outputs": [],
   "source": [
    "\n",
    "\n",
    "class TypeError(Exception):\n",
    "    def __str__(self):\n",
    "        return \"wrong datatype\"\n",
    "a=15\n",
    "b=\"om\"\n",
    "if(type(b)!= str ):\n",
    "    raise TypeError\n",
    "else:\n",
    "    print(\"valid\")\n",
    "    \n",
    "\n",
    ""
   ]
  },
  {
   "cell_type": "code",
   "execution_count": null,
   "metadata": {},
   "outputs": [],
   "source": [
    "\n",
    "\n",
    "class complex:\n",
    "    def __init__(self,real,imaginary):\n",
    "        self.real=real\n",
    "        self.imaginary=imaginary\n",
    "    def add_comp(self,c1,c2):\n",
    "        temp=complex(0,0)\n",
    "        temp.real=c1.real+c2.real\n",
    "        temp.imaginary=c1.imaginary+c2.imaginary\n",
    "        return temp\n",
    "c1=complex(0,0)\n",
    "c2=complex(0,0)\n",
    "c1.real=int(input(\"enter real part\"))\n",
    "c1.imaginary=int(input(\"enter img. part\"))\n",
    "c2.real=int(input(\"enter real part\"))\n",
    "c2.imaginary=int(input(\"enter img. part\"))\n",
    "c3=complex(0,0)\n",
    "c3=c3.add_comp(c1,c2)\n",
    "print(\"sum is:\",c3.real,\"+i\",(c3.imaginary))\n",
    "\n",
    ""
   ]
  },
  {
   "cell_type": "code",
   "execution_count": null,
   "metadata": {},
   "outputs": [],
   "source": [
    "\n",
    "\n",
    "class triangle:\n",
    "    def __init__(self,a,b,c):\n",
    "        self.a=a\n",
    "        self.b=b\n",
    "        self.c=c\n",
    "    def peri(self):\n",
    "        return  a+b+c\n",
    "a=int(input(\"enter value for a:\"))\n",
    "b=int(input(\"enter value for b:\"))\n",
    "c=int(input(\"enter value for c:\"))\n",
    "object=triangle(a,b,c)\n",
    "print(\"perimeter is:\",object.peri())\n",
    "\n",
    ""
   ]
  },
  {
   "cell_type": "code",
   "execution_count": null,
   "metadata": {},
   "outputs": [],
   "source": [
    "\n",
    "\n",
    "class lists:\n",
    "    def __init__(self,a):\n",
    "        self.a=a\n",
    "    def append(self,value):\n",
    "        self.value=value\n",
    "        a.append(value)\n",
    "        return a\n",
    "    def remove(self,value):\n",
    "        self.value=value\n",
    "        a.remove(value)\n",
    "        return a\n",
    "    def display(self):\n",
    "        print(a)\n",
    "object=lists(a)\n",
    "a=[1,2,3,4]\n",
    "object.append(int(input(\"enter value to append:\")))\n",
    "print(a)\n",
    "object.remove(int(input(\"enter value to remove:\")))\n",
    "print(a)\n",
    "object.display()\n",
    "\n",
    ""
   ]
  },
  {
   "cell_type": "code",
   "execution_count": null,
   "metadata": {},
   "outputs": [],
   "source": [
    "\n",
    "\n",
    "class calculator:\n",
    "      def multiply(self,a,b):\n",
    "        self.a=a\n",
    "        self.b=b\n",
    "        return a*b\n",
    "      def addition(self,a,b):\n",
    "        self.a=a\n",
    "        self.b=b\n",
    "        return a+b\n",
    "a=int(input(\"enter value of a\"))\n",
    "b=int(input(\"enter value of b\"))\n",
    "\n",
    "object1=calculator()\n",
    "choice=1\n",
    "print(\"1 for addition\")\n",
    "print(\"2 for multiplication\")\n",
    "choice=int(input(\"enter\"))\n",
    "if(choice==1):\n",
    "    print(object1.addition(a,b))\n",
    "elif(choice==2):\n",
    "    print(object1.multiply(a,b))\n",
    "else:\n",
    "    print(\"invalid choice\")\n",
    "\n",
    ""
   ]
  },
  {
   "cell_type": "code",
   "execution_count": null,
   "metadata": {},
   "outputs": [],
   "source": [
    "\n",
    "\n",
    "class rev:\n",
    "    def __init__(self,string):\n",
    "        self.string=string\n",
    "    def reverse(self,string):\n",
    "        string=string.split()\n",
    "        for i in range (len(string)):\n",
    "            reversestr=string[i]\n",
    "            reversestr=reversestr[::-1]\n",
    "            print(reversestr,end=\" \")\n",
    "string=(input(\"enter the string:\"))\n",
    "obj=rev(string)\n",
    "obj.reverse(string)\n",
    "\n",
    ""
   ]
  },
  {
   "cell_type": "code",
   "execution_count": null,
   "metadata": {},
   "outputs": [],
   "source": [
    "\n",
    "\n",
    "a=\"hello\"\n",
    "print(a.title())\n",
    "\n",
    ""
   ]
  },
  {
   "cell_type": "code",
   "execution_count": null,
   "metadata": {},
   "outputs": [],
   "source": [
    "\n",
    "\n",
    "class vehicle:\n",
    "    def __init__(self,maxspeed,mileage):\n",
    "        self.maxspeed=maxspeed\n",
    "        self.mileage=mileage\n",
    "    def display(self):\n",
    "        print(self.maxspeed)\n",
    "        print(self.mileage)\n",
    "class bus(vehicle):\n",
    "    pass\n",
    "\n",
    "maxspeed=int(input(\"enter the speed:\"))\n",
    "mileage=int(input(\"enter the mileage:\"))\n",
    "obj=bus(maxspeed,mileage)\n",
    "obj.display()\n",
    "\n",
    ""
   ]
  },
  {
   "cell_type": "code",
   "execution_count": null,
   "metadata": {},
   "outputs": [],
   "source": [
    "\n",
    "\n",
    "l=[0, 2, 3, 4, 6, 7, 9, 0]\n",
    "l1=[]\n",
    "count=0\n",
    "for i in range(len(l)):\n",
    "    if (l[i]!=0):\n",
    "        l1.append(l[i])\n",
    "    else:\n",
    "        count=count+1\n",
    "for i in range(count):\n",
    "    l1.append(0)\n",
    "print(l1)\n",
    "\n",
    ""
   ]
  },
  {
   "cell_type": "code",
   "execution_count": null,
   "metadata": {},
   "outputs": [],
   "source": [
    "\n",
    "\n",
    "import pandas as pd\n",
    "import numpy as np\n",
    "\n",
    "exam_data = {'name': ['Anastasia', 'Dima', 'Katherine', 'James', 'Emily', 'Michael', 'Matthew', 'Laura', 'Kevin', 'Jonas'],\n",
    "'score': [12.5, 9, 16.5, np.nan, 9, 20, 14.5, np.nan, 8, 19],\n",
    "'attempts': [1, 3, 2, 3, 2, 3, 1, 1, 2, 1],\n",
    "'qualify': ['yes', 'no', 'yes', 'no', 'no', 'yes', 'yes', 'no', 'no', 'yes']}\n",
    "labels = ['a', 'b', 'c', 'd', 'e', 'f', 'g', 'h', 'i', 'j']\n",
    "\n",
    ""
   ]
  },
  {
   "cell_type": "code",
   "execution_count": null,
   "metadata": {},
   "outputs": [],
   "source": [
    "\n",
    "\n",
    "df=pd.DataFrame(exam_data,index=labels)\n",
    "\n",
    ""
   ]
  },
  {
   "cell_type": "code",
   "execution_count": null,
   "metadata": {},
   "outputs": [],
   "source": [
    "\n",
    "\n",
    "df.head(3)\n",
    "\n",
    ""
   ]
  },
  {
   "cell_type": "code",
   "execution_count": null,
   "metadata": {},
   "outputs": [],
   "source": [
    "\n",
    "\n",
    "df1=df[['name','score']]\n",
    "df1\n",
    "\n",
    ""
   ]
  },
  {
   "cell_type": "code",
   "execution_count": null,
   "metadata": {},
   "outputs": [],
   "source": [
    "\n",
    "\n",
    "df1=df.loc['a':'e',['name','score']]\n",
    "\n",
    ""
   ]
  },
  {
   "cell_type": "code",
   "execution_count": null,
   "metadata": {},
   "outputs": [],
   "source": [
    "\n",
    "\n",
    "df.iloc[:7,[1,3]]\n",
    "\n",
    ""
   ]
  },
  {
   "cell_type": "code",
   "execution_count": null,
   "metadata": {},
   "outputs": [],
   "source": [
    "\n",
    "\n",
    "df[df['attempts']>2]\n",
    "\n",
    ""
   ]
  },
  {
   "cell_type": "code",
   "execution_count": null,
   "metadata": {},
   "outputs": [],
   "source": [
    "\n",
    "\n",
    "print(\"no. of coulmns is:\",len(df.columns))\n",
    "print(\"no. of rows are:\",len(df))\n",
    "\n",
    ""
   ]
  },
  {
   "cell_type": "code",
   "execution_count": null,
   "metadata": {},
   "outputs": [],
   "source": [
    "\n",
    "\n",
    "df1=df[df['score']>15]\n",
    "df1=df1[df1['score']<=20]\n",
    "df1\n",
    "\n",
    ""
   ]
  },
  {
   "cell_type": "code",
   "execution_count": null,
   "metadata": {},
   "outputs": [],
   "source": [
    "\n",
    "\n",
    "df1=df[df['attempts']<2] \n",
    "df2=df1[df1['score']>15]\n",
    "df2\n",
    "\n",
    ""
   ]
  },
  {
   "cell_type": "code",
   "execution_count": null,
   "metadata": {},
   "outputs": [],
   "source": [
    "\n",
    "\n",
    "df.loc['k']=['om',20.0,2,'yes']\n",
    "\n",
    ""
   ]
  },
  {
   "cell_type": "code",
   "execution_count": null,
   "metadata": {},
   "outputs": [],
   "source": [
    "\n",
    "\n",
    "df\n",
    "\n",
    ""
   ]
  },
  {
   "cell_type": "code",
   "execution_count": null,
   "metadata": {},
   "outputs": [],
   "source": [
    "\n",
    "\n",
    "df.drop('k',inplace=True)\n",
    "df\n",
    "\n",
    ""
   ]
  },
  {
   "cell_type": "code",
   "execution_count": null,
   "metadata": {},
   "outputs": [],
   "source": [
    "\n",
    "\n",
    "df.sort_values(by=['name','score'],ascending=[False,True])\n",
    "\n",
    ""
   ]
  },
  {
   "cell_type": "code",
   "execution_count": null,
   "metadata": {},
   "outputs": [],
   "source": [
    "\n",
    "\n",
    "a=df.head(10)\n",
    "a\n",
    "\n",
    ""
   ]
  },
  {
   "cell_type": "code",
   "execution_count": null,
   "metadata": {},
   "outputs": [],
   "source": [
    "\n",
    "\n",
    "df['qualify']= df['qualify'].map({'yes':True,'no':False})\n",
    "\n",
    ""
   ]
  },
  {
   "cell_type": "code",
   "execution_count": null,
   "metadata": {},
   "outputs": [],
   "source": [
    "\n",
    "\n",
    "df\n",
    "\n",
    ""
   ]
  },
  {
   "cell_type": "code",
   "execution_count": null,
   "metadata": {},
   "outputs": [],
   "source": [
    "\n",
    "\n",
    "df.at['d','score']=10.2\n",
    "\n",
    ""
   ]
  },
  {
   "cell_type": "code",
   "execution_count": null,
   "metadata": {},
   "outputs": [],
   "source": [
    "\n",
    "\n",
    "df\n",
    "\n",
    ""
   ]
  },
  {
   "cell_type": "code",
   "execution_count": null,
   "metadata": {},
   "outputs": [],
   "source": [
    "\n",
    "\n",
    "df.isnull()\n",
    "df.dropna()\n",
    "\n",
    ""
   ]
  },
  {
   "cell_type": "code",
   "execution_count": null,
   "metadata": {},
   "outputs": [],
   "source": [
    "\n",
    "\n",
    "df.duplicated()\n",
    "\n",
    ""
   ]
  },
  {
   "cell_type": "code",
   "execution_count": null,
   "metadata": {},
   "outputs": [],
   "source": [
    "\n",
    "\n",
    "l1=[0,10,20,40,60,80]\n",
    "l2=[10,30,40,50,70]\n",
    "l3=[]\n",
    "for i in l1:\n",
    "    if i not in l2:\n",
    "        l3.append(i)\n",
    "print(l3)\n",
    "\n",
    ""
   ]
  },
  {
   "cell_type": "code",
   "execution_count": null,
   "metadata": {},
   "outputs": [],
   "source": [
    "\n",
    "\n",
    "\n",
    "\n",
    ""
   ]
  }
 ],
 "nbformat": 4,
 "nbformat_minor": 2,
 "metadata": {
  "language_info": {
   "codemirror_mode": {
    "name": "ipython",
    "version": 3
   },
   "file_extension": ".py",
   "mimetype": "text/x-python",
   "name": "python",
   "nbconvert_exporter": "python",
   "pygments_lexer": "ipython3",
   "version": 3
  },
  "orig_nbformat": 4
 }
}